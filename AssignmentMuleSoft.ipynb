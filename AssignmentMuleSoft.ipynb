{
 "cells": [
  {
   "cell_type": "markdown",
   "id": "20b99ea6",
   "metadata": {},
   "source": [
    "<h1> Assignment :</h1> <h2> Create a Data base Movie and tables for store the lead actor, actress, year of release and the director name</h2>"
   ]
  },
  {
   "cell_type": "markdown",
   "id": "50ddff9d",
   "metadata": {},
   "source": [
    "<h3> Applicant Name : Rohit Y. Mungase </h3>"
   ]
  },
  {
   "cell_type": "code",
   "execution_count": 1,
   "id": "86957608",
   "metadata": {},
   "outputs": [],
   "source": [
    "import mysql.connector                      # importing mysql connector"
   ]
  },
  {
   "cell_type": "code",
   "execution_count": 2,
   "id": "c3c65b4d",
   "metadata": {},
   "outputs": [
    {
     "name": "stdout",
     "output_type": "stream",
     "text": [
      "<mysql.connector.connection.MySQLConnection object at 0x00000218119228E0>\n"
     ]
    }
   ],
   "source": [
    "                                            #conection creation\n",
    "import mysql.connector\n",
    "\n",
    "mydb = mysql.connector.connect(\n",
    "  host=\"localhost\",\n",
    "  user=\"root\",\n",
    "  password=\"Rohit@123\"\n",
    ")\n",
    "\n",
    "print(mydb)"
   ]
  },
  {
   "cell_type": "code",
   "execution_count": 4,
   "id": "1cbba7e2",
   "metadata": {},
   "outputs": [
    {
     "name": "stdout",
     "output_type": "stream",
     "text": [
      "('demo',)\n",
      "('examform',)\n",
      "('information_schema',)\n",
      "('joindb',)\n",
      "('movies_ratings',)\n",
      "('mysql',)\n",
      "('onlineexam',)\n",
      "('performance_schema',)\n",
      "('register',)\n",
      "('revise',)\n",
      "('sakila',)\n",
      "('sys',)\n",
      "('world',)\n"
     ]
    }
   ],
   "source": [
    "                                                 #Show databases in system\n",
    "                                                 # Initially i show which database are exit in system\n",
    "mycursor = mydb.cursor()\n",
    "\n",
    "mycursor.execute(\"SHOW DATABASES\")\n",
    "\n",
    "for x in mycursor:\n",
    "    print(x)"
   ]
  },
  {
   "cell_type": "markdown",
   "id": "1af66444",
   "metadata": {},
   "source": [
    "<h1 align=\"center\">Creating Database : Movie </h1>"
   ]
  },
  {
   "cell_type": "code",
   "execution_count": 5,
   "id": "c7bc8379",
   "metadata": {},
   "outputs": [],
   "source": [
    "mycursor = mydb.cursor()\n",
    "\n",
    "mycursor.execute(\"CREATE DATABASE Movie\")"
   ]
  },
  {
   "cell_type": "code",
   "execution_count": 6,
   "id": "898028de",
   "metadata": {},
   "outputs": [
    {
     "name": "stdout",
     "output_type": "stream",
     "text": [
      "('demo',)\n",
      "('examform',)\n",
      "('information_schema',)\n",
      "('joindb',)\n",
      "('movie',)\n",
      "('movies_ratings',)\n",
      "('mysql',)\n",
      "('onlineexam',)\n",
      "('performance_schema',)\n",
      "('register',)\n",
      "('revise',)\n",
      "('sakila',)\n",
      "('sys',)\n",
      "('world',)\n"
     ]
    }
   ],
   "source": [
    "#Show databases in system\n",
    "mycursor = mydb.cursor()\n",
    "\n",
    "mycursor.execute(\"SHOW DATABASES\")                        #Here  Movie database is created\n",
    "\n",
    "for x in mycursor:\n",
    "    print(x)"
   ]
  },
  {
   "cell_type": "markdown",
   "id": "7d898fe7",
   "metadata": {},
   "source": [
    "<h1 align=\"center\">Connect to Database </h1>"
   ]
  },
  {
   "cell_type": "code",
   "execution_count": 8,
   "id": "250aea66",
   "metadata": {},
   "outputs": [],
   "source": [
    "\n",
    "import mysql.connector\n",
    "\n",
    "mydb = mysql.connector.connect(\n",
    "  host=\"localhost\",\n",
    "  user=\"root\",\n",
    "  password=\"Rohit@123\",\n",
    "  database=\"Movie\"\n",
    ")"
   ]
  },
  {
   "cell_type": "markdown",
   "id": "96242895",
   "metadata": {},
   "source": [
    "<h1 align=\"center\">Creating table Movie </h1>"
   ]
  },
  {
   "cell_type": "code",
   "execution_count": 18,
   "id": "4bc65844",
   "metadata": {},
   "outputs": [],
   "source": [
    "mycursor = mydb.cursor()\n",
    "\n",
    "mycursor.execute(\"CREATE TABLE Movie (id INT AUTO_INCREMENT PRIMARY KEY, MovieName VARCHAR(255), leadActorName VARCHAR(255), Actress VARCHAR(255), DirectorName VARCHAR(255),  YearOfRelease_id INT )\")"
   ]
  },
  {
   "cell_type": "code",
   "execution_count": 17,
   "id": "14732be3",
   "metadata": {},
   "outputs": [],
   "source": []
  },
  {
   "cell_type": "markdown",
   "id": "90afe493",
   "metadata": {},
   "source": [
    "<h1 align=\"center\">Show table Movie</h1>"
   ]
  },
  {
   "cell_type": "code",
   "execution_count": 19,
   "id": "88ef4389",
   "metadata": {},
   "outputs": [
    {
     "name": "stdout",
     "output_type": "stream",
     "text": [
      "('movie',)\n"
     ]
    }
   ],
   "source": [
    "mycursor = mydb.cursor()\n",
    "\n",
    "mycursor.execute(\"SHOW TABLES\")\n",
    "\n",
    "for x in mycursor:\n",
    "    print(x)"
   ]
  },
  {
   "cell_type": "markdown",
   "id": "5b88800b",
   "metadata": {},
   "source": [
    "<h1 align=\"center\"> Insert Data into table Movie </h1>"
   ]
  },
  {
   "cell_type": "code",
   "execution_count": 21,
   "id": "d010fd34",
   "metadata": {},
   "outputs": [
    {
     "name": "stdout",
     "output_type": "stream",
     "text": [
      "1 record inserted.\n"
     ]
    }
   ],
   "source": [
    "mycursor = mydb.cursor()\n",
    "\n",
    "sql = \"INSERT INTO Movie (MovieName, leadActorName, Actress, DirectorName, YearOfRelease_id) VALUES (%s, %s, %s, %s, %s)\"\n",
    "val = (\"Sanju\",\"Ranbir Kapoor\", \"Anushka Sharma,Sonam Kapoor,Dia Mirza\",\"Rajkumar Hirani\",\"2018\")\n",
    "mycursor.execute(sql, val)\n",
    "\n",
    "mydb.commit()\n",
    "\n",
    "print(mycursor.rowcount, \"record inserted.\")"
   ]
  },
  {
   "cell_type": "markdown",
   "id": "66f95171",
   "metadata": {},
   "source": [
    "<h1 align=\"center\">Inserted another record i.e new movie with its information data </h1>"
   ]
  },
  {
   "cell_type": "code",
   "execution_count": 24,
   "id": "9dd2960b",
   "metadata": {},
   "outputs": [
    {
     "name": "stdout",
     "output_type": "stream",
     "text": [
      "1 record inserted.\n"
     ]
    }
   ],
   "source": [
    "mycursor = mydb.cursor()\n",
    "\n",
    "sql = \"INSERT INTO Movie (MovieName, leadActorName, Actress, DirectorName, YearOfRelease_id) VALUES (%s, %s, %s, %s, %s)\"\n",
    "val = (\"3 idiots\", \"Aamir Khan\", \"Kareena Kapoor,Boman Irani,John Abraham,Sharman Joshi,etc\",\"Rajkumar Hirani\",\"2009\")\n",
    "mycursor.execute(sql, val)\n",
    "\n",
    "mydb.commit()\n",
    "\n",
    "print(mycursor.rowcount, \"record inserted.\")"
   ]
  },
  {
   "cell_type": "markdown",
   "id": "8192e0f6",
   "metadata": {},
   "source": [
    "<h1 align=\"center\">Display inserted Data in Table using \"SELECT statement\" </h1>"
   ]
  },
  {
   "cell_type": "code",
   "execution_count": 25,
   "id": "0ae19191",
   "metadata": {},
   "outputs": [
    {
     "name": "stdout",
     "output_type": "stream",
     "text": [
      "(1, 'Sanju', 'Ranbir Kapoor', 'Anushka Sharma,Sonam Kapoor,Dia Mirza', 'Rajkumar Hirani', 2018)\n",
      "(2, '3 idiots', 'Aamir Khan', 'Kareena Kapoor,Boman Irani,John Abraham,Sharman Joshi,etc', 'Rajkumar Hirani', 2009)\n"
     ]
    }
   ],
   "source": [
    "mycursor = mydb.cursor()\n",
    "\n",
    "mycursor.execute(\"SELECT * FROM Movie\")\n",
    "\n",
    "myresult = mycursor.fetchall()\n",
    "\n",
    "for x in myresult:\n",
    "    print(x)"
   ]
  },
  {
   "cell_type": "markdown",
   "id": "381e8c61",
   "metadata": {},
   "source": [
    "<h2 align=\"center\">Select movie name and its all the charaters details using SELECT and WHERE command </h2>"
   ]
  },
  {
   "cell_type": "code",
   "execution_count": 26,
   "id": "f5b0a44d",
   "metadata": {},
   "outputs": [
    {
     "name": "stdout",
     "output_type": "stream",
     "text": [
      "(1, 'Sanju', 'Ranbir Kapoor', 'Anushka Sharma,Sonam Kapoor,Dia Mirza', 'Rajkumar Hirani', 2018)\n"
     ]
    }
   ],
   "source": [
    "\n",
    "mycursor = mydb.cursor()\n",
    "\n",
    "sql = \"SELECT * FROM Movie WHERE MovieName ='Sanju'\"              \n",
    "\n",
    "mycursor.execute(sql)\n",
    "\n",
    "myresult = mycursor.fetchall()\n",
    "\n",
    "for x in myresult:\n",
    "    print(x)"
   ]
  },
  {
   "cell_type": "code",
   "execution_count": null,
   "id": "0c1c4998",
   "metadata": {},
   "outputs": [],
   "source": []
  }
 ],
 "metadata": {
  "kernelspec": {
   "display_name": "Python 3 (ipykernel)",
   "language": "python",
   "name": "python3"
  },
  "language_info": {
   "codemirror_mode": {
    "name": "ipython",
    "version": 3
   },
   "file_extension": ".py",
   "mimetype": "text/x-python",
   "name": "python",
   "nbconvert_exporter": "python",
   "pygments_lexer": "ipython3",
   "version": "3.9.2"
  }
 },
 "nbformat": 4,
 "nbformat_minor": 5
}
